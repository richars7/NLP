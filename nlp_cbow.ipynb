{
 "cells": [
  {
   "cell_type": "code",
   "execution_count": 1,
   "metadata": {},
   "outputs": [],
   "source": [
    "import numpy as np\n",
    "import re \n",
    "import nltk \n",
    "import heapq"
   ]
  },
  {
   "cell_type": "code",
   "execution_count": 2,
   "metadata": {},
   "outputs": [],
   "source": [
    "paragraph = \"\"\"India (IAST: Bhārat), also called the Republic of India (IAST: Bhārat Gaṇarājya),[19][e] is a country in South Asia. It is the seventh-largest country by area, the second-most populous country (with over 1.2 billion people), and the most populous democracy in the world. It is bounded by the Indian Ocean on the south, the Arabian Sea on the southwest, and the Bay of Bengal on the southeast. It shares land borders with Pakistan to the west;[f] China, Nepal, and Bhutan to the northeast; and Bangladesh and Myanmar to the east. In the Indian Ocean, India is in the vicinity of Sri Lanka and the Maldives. India's Andaman and Nicobar Islands share a maritime border with Thailand and Indonesia.\n",
    "\n",
    "The Indian subcontinent was home to the urban Indus Valley Civilisation of the 3rd millennium BCE. In the following millennium, the oldest scriptures associated with Hinduism began to be composed. Social stratification, based on caste, emerged in the first millennium BCE, and Buddhism and Jainism arose. Early political consolidations took place under the Maurya and Gupta empires; the later peninsular Middle Kingdoms influenced cultures as far as southeast Asia. In the medieval era, Judaism, Zoroastrianism, Christianity, and Islam arrived, and Sikhism emerged, all adding to the region's diverse culture. Much of the north fell to the Delhi Sultanate; the south was united under the Vijayanagara Empire. The economy expanded in the 17th century in the Mughal Empire. In the mid-18th century, the subcontinent came under British East India Company rule, and in the mid-19th under British crown rule. A nationalist movement emerged in the late 19th century, which later, under Mahatma Gandhi, was noted for nonviolent resistance and led to India's independence in 1947.\n",
    "\n",
    "In 2017, the Indian economy was the world's sixth largest by nominal GDP[20] and third largest by purchasing power parity.[16] Following market-based economic reforms in 1991, India became one of the fastest-growing major economies and is considered a newly industrialised country. However, it continues to face the challenges of poverty, corruption, malnutrition, and inadequate public healthcare. A nuclear weapons state and regional power, it has the second largest standing army in the world and ranks fifth in military expenditure among nations. India is a federal republic governed under a parliamentary system and consists of 29 states and 7 union territories. It is a pluralistic, multilingual and multi-ethnic society and is also home to a diversity of wildlife in a variety of protected habitats.\"\"\""
   ]
  },
  {
   "cell_type": "code",
   "execution_count": 3,
   "metadata": {},
   "outputs": [],
   "source": [
    "dataset = nltk.sent_tokenize(paragraph)"
   ]
  },
  {
   "cell_type": "code",
   "execution_count": 4,
   "metadata": {},
   "outputs": [],
   "source": [
    "for i in range(len(dataset)):\n",
    "    dataset[i] = dataset[i].lower()\n",
    "    dataset[i]= re.sub(r'\\W',' ',dataset[i])\n",
    "    dataset[i]= re.sub(r'\\s+',' ',dataset[i])\n",
    "    dataset[i] = re.sub(r'\\d',' ',dataset[i])\n",
    "    dataset[i] = re.sub(r'\\s+[a-zA-Z]\\s+',' ',dataset[i])\n",
    "    dataset[i] = re.sub(r'\\s+ \\s+',' ',dataset[i])"
   ]
  },
  {
   "cell_type": "code",
   "execution_count": 5,
   "metadata": {},
   "outputs": [
    {
     "data": {
      "text/plain": [
       "['india iast bhārat also called the republic of india iast bhārat gaṇarājya is country in south asia ',\n",
       " 'it is the seventh largest country by area the second most populous country with over billion people and the most populous democracy in the world ',\n",
       " 'it is bounded by the indian ocean on the south the arabian sea on the southwest and the bay of bengal on the southeast ',\n",
       " 'it shares land borders with pakistan to the west china nepal and bhutan to the northeast and bangladesh and myanmar to the east ',\n",
       " 'in the indian ocean india is in the vicinity of sri lanka and the maldives ',\n",
       " 'india andaman and nicobar islands share maritime border with thailand and indonesia ',\n",
       " 'the indian subcontinent was home to the urban indus valley civilisation of the  rd millennium bce ',\n",
       " 'in the following millennium the oldest scriptures associated with hinduism began to be composed ',\n",
       " 'social stratification based on caste emerged in the first millennium bce and buddhism and jainism arose ',\n",
       " 'early political consolidations took place under the maurya and gupta empires the later peninsular middle kingdoms influenced cultures as far as southeast asia ',\n",
       " 'in the medieval era judaism zoroastrianism christianity and islam arrived and sikhism emerged all adding to the region diverse culture ',\n",
       " 'much of the north fell to the delhi sultanate the south was united under the vijayanagara empire ',\n",
       " 'the economy expanded in the th century in the mughal empire ',\n",
       " 'in the mid th century the subcontinent came under british east india company rule and in the mid th under british crown rule ',\n",
       " 'a nationalist movement emerged in the late th century which later under mahatma gandhi was noted for nonviolent resistance and led to india independence in ',\n",
       " 'in the indian economy was the world sixth largest by nominal gdp and third largest by purchasing power parity ',\n",
       " ' following market based economic reforms in india became one of the fastest growing major economies and is considered newly industrialised country ',\n",
       " 'however it continues to face the challenges of poverty corruption malnutrition and inadequate public healthcare ',\n",
       " 'a nuclear weapons state and regional power it has the second largest standing army in the world and ranks fifth in military expenditure among nations ',\n",
       " 'india is federal republic governed under parliamentary system and consists of states and union territories ',\n",
       " 'it is pluralistic multilingual and multi ethnic society and is also home to diversity of wildlife in variety of protected habitats ']"
      ]
     },
     "execution_count": 5,
     "metadata": {},
     "output_type": "execute_result"
    }
   ],
   "source": [
    "dataset"
   ]
  },
  {
   "cell_type": "code",
   "execution_count": 6,
   "metadata": {},
   "outputs": [],
   "source": [
    "word2count= {}\n",
    "for data in dataset:\n",
    "    words = nltk.word_tokenize(data)\n",
    "    for word in words:\n",
    "        if word not in word2count.keys():\n",
    "            word2count[word]= 1\n",
    "        else:\n",
    "            word2count[word] +=1\n",
    "            "
   ]
  },
  {
   "cell_type": "code",
   "execution_count": 7,
   "metadata": {},
   "outputs": [],
   "source": [
    "freq_words = heapq.nlargest(100,word2count,key=word2count.get)"
   ]
  },
  {
   "cell_type": "code",
   "execution_count": 8,
   "metadata": {},
   "outputs": [],
   "source": [
    "x=[]\n",
    "for data in dataset:\n",
    "    vector= []\n",
    "    for word in freq_words:\n",
    "        if word in nltk.word_tokenize(data):\n",
    "            vector.append(1)\n",
    "        else:\n",
    "            vector.append(0)\n",
    "    x.append(vector)\n",
    "    "
   ]
  },
  {
   "cell_type": "code",
   "execution_count": 9,
   "metadata": {},
   "outputs": [],
   "source": [
    "x=np.asarray(x)"
   ]
  },
  {
   "cell_type": "code",
   "execution_count": 10,
   "metadata": {},
   "outputs": [
    {
     "data": {
      "text/plain": [
       "array([[1, 0, 1, ..., 0, 0, 0],\n",
       "       [1, 1, 1, ..., 0, 0, 0],\n",
       "       [1, 1, 0, ..., 0, 0, 0],\n",
       "       ...,\n",
       "       [1, 1, 1, ..., 0, 0, 0],\n",
       "       [0, 1, 0, ..., 0, 0, 0],\n",
       "       [0, 1, 1, ..., 0, 0, 0]])"
      ]
     },
     "execution_count": 10,
     "metadata": {},
     "output_type": "execute_result"
    }
   ],
   "source": [
    "x"
   ]
  },
  {
   "cell_type": "code",
   "execution_count": null,
   "metadata": {},
   "outputs": [],
   "source": []
  }
 ],
 "metadata": {
  "kernelspec": {
   "display_name": "Python 3",
   "language": "python",
   "name": "python3"
  },
  "language_info": {
   "codemirror_mode": {
    "name": "ipython",
    "version": 3
   },
   "file_extension": ".py",
   "mimetype": "text/x-python",
   "name": "python",
   "nbconvert_exporter": "python",
   "pygments_lexer": "ipython3",
   "version": "3.6.4"
  }
 },
 "nbformat": 4,
 "nbformat_minor": 2
}
